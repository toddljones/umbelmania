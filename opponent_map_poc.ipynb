{
 "cells": [
  {
   "cell_type": "code",
   "execution_count": 1,
   "metadata": {
    "collapsed": false
   },
   "outputs": [
    {
     "name": "stdout",
     "output_type": "stream",
     "text": [
      "### START ###\n",
      "site: https://umbelmania.umbel.com/training/\n",
      "initial_payload:  {\n",
      "    \"player_name\": \"Bodds by Dodds\", \n",
      "    \"email\": \"todd.jones@gmail.com\", \n",
      "    \"opponent\": \"el-rey-muy-dante\"\n",
      "}\n"
     ]
    }
   ],
   "source": [
    "# imports\n",
    "from __future__ import print_function\n",
    "import urllib2\n",
    "import json\n",
    "\n",
    "# global vars/constants\n",
    "site = \"https://umbelmania.umbel.com/\"\n",
    "endpoint = \"training/\"\n",
    "site = site + endpoint\n",
    "initial_payload = {}\n",
    "initial_payload[\"opponent\"] = \"el-rey-muy-dante\"\n",
    "initial_payload[\"player_name\"] = \"Bodds by Dodds\"\n",
    "initial_payload[\"email\"] = \"todd.jones@gmail.com\"\n",
    "print(\"### START ###\")\n",
    "print(\"site:\", site)\n",
    "print(\"initial_payload: \", json.dumps(initial_payload, indent = 4))\n"
   ]
  },
  {
   "cell_type": "code",
   "execution_count": 2,
   "metadata": {
    "collapsed": true
   },
   "outputs": [],
   "source": [
    "opponent = 'el-rey-muy-dante'"
   ]
  },
  {
   "cell_type": "code",
   "execution_count": 16,
   "metadata": {
    "collapsed": false
   },
   "outputs": [],
   "source": [
    "fp = open(opponent+\".moves\", mode='r')"
   ]
  },
  {
   "cell_type": "code",
   "execution_count": 17,
   "metadata": {
    "collapsed": false
   },
   "outputs": [],
   "source": [
    "opponent_map = json.load(fp)"
   ]
  },
  {
   "cell_type": "code",
   "execution_count": 18,
   "metadata": {
    "collapsed": false
   },
   "outputs": [
    {
     "name": "stdout",
     "output_type": "stream",
     "text": [
      "{u'opponent_moves': [u'A', u'B', u'D', u'G', u'K', u'E', u'K', u'G', u'D', u'B', u'A', u'A', u'B', u'D', u'G', u'K', u'E', u'K', u'G', u'D', u'B', u'A', u'A', u'B', u'D', u'G', u'K', u'E', u'K', u'G', u'D', u'B', u'A', u'A', u'B', u'D', u'G', u'K', u'E', u'K', u'G', u'D', u'B', u'A', u'A', u'B', u'D', u'G', u'K', u'E', u'K', u'G', u'D', u'B', u'A', u'A', u'B', u'D', u'G', u'K', u'E', u'K', u'G', u'D', u'B', u'A', u'A', u'B', u'D', u'G', u'K', u'E', u'K', u'G', u'D', u'B', u'A', u'A', u'B', u'D', u'G', u'K', u'E', u'K', u'G', u'D', u'B', u'A', u'A', u'B', u'D', u'G', u'K', u'E', u'K', u'G', u'D', u'B', u'A', u'A', u'B', u'D', u'G', u'K', u'E', u'K', u'G', u'D', u'B', u'A', u'A', u'B', u'D', u'G', u'K', u'E', u'K', u'G', u'D', u'B', u'A', u'A', u'B', u'D', u'G', u'K', u'E', u'K', u'G', u'D', u'B', u'A', u'A', u'B', u'D', u'G', u'K', u'E', u'K', u'G', u'D', u'B', u'A', u'A', u'B', u'D', u'G', u'K', u'E', u'K', u'G', u'D', u'B', u'A', u'A', u'B', u'D', u'G', u'K', u'E', u'K', u'G', u'D', u'B', u'A', u'A', u'B', u'D', u'G', u'K', u'E', u'K', u'G', u'D', u'B', u'A', u'A', u'B', u'D', u'G', u'K', u'E', u'K', u'G', u'D', u'B', u'A', u'A', u'B', u'D', u'G', u'K', u'E', u'K', u'G', u'D', u'B', u'A', u'A', u'B', u'D', u'G', u'K', u'E', u'K', u'G', u'D', u'B', u'A', u'A', u'B', u'D', u'G', u'K', u'E', u'K', u'G', u'D', u'B', u'A', u'A', u'B', u'D', u'G', u'K', u'E', u'K', u'G', u'D', u'B', u'A', u'A', u'B', u'D', u'G', u'K', u'E', u'K', u'G', u'D', u'B', u'A', u'A', u'B', u'D', u'G', u'K', u'E', u'K', u'G', u'D', u'B', u'A', u'A', u'B', u'D', u'G', u'K', u'E', u'K', u'G', u'D', u'B', u'A', u'A', u'B', u'D', u'G', u'K', u'E', u'K', u'G', u'D', u'B', u'A', u'A', u'B', u'D', u'G', u'K', u'E', u'K', u'G', u'D', u'B', u'A', u'A', u'B', u'D', u'G', u'K', u'E', u'K', u'G', u'D', u'B', u'A', u'A', u'B', u'D', u'G', u'K', u'E', u'K', u'G', u'D', u'B', u'A', u'A', u'B', u'D', u'G', u'K', u'E', u'K', u'G', u'D', u'B', u'A', u'A', u'B', u'D', u'G', u'K', u'E', u'K', u'G', u'D', u'B', u'A', u'A', u'B', u'D', u'G', u'K', u'E', u'K', u'G', u'D', u'B', u'A', u'A', u'B', u'D', u'G', u'K', u'E', u'K', u'G', u'D', u'B', u'A', u'A', u'B', u'D', u'G', u'K', u'E', u'K', u'G', u'D', u'B', u'A', u'A', u'B', u'D', u'G', u'K', u'E', u'K', u'G', u'D', u'B', u'A', u'A', u'B', u'D', u'G', u'K', u'E', u'K', u'G', u'D', u'B', u'A', u'A', u'B', u'D', u'G', u'K', u'E', u'K', u'G', u'D', u'B', u'A', u'A', u'B', u'D', u'G', u'K', u'E', u'K', u'G', u'D', u'B', u'A', u'A', u'B', u'D', u'G', u'K', u'E', u'K', u'G', u'D', u'B', u'A', u'A', u'B', u'D', u'G', u'K', u'E', u'K', u'G', u'D', u'B', u'A', u'A', u'B', u'D', u'G', u'K', u'E', u'K', u'G', u'D', u'B', u'A', u'A', u'B', u'D', u'G', u'K', u'E', u'K', u'G', u'D', u'B', u'A', u'A', u'B', u'D', u'G', u'K', u'E', u'K', u'G', u'D', u'B', u'A', u'A', u'B', u'D', u'G', u'K', u'E', u'K', u'G', u'D', u'B', u'A', u'A', u'B', u'D', u'G', u'K', u'E', u'K', u'G', u'D', u'B', u'A', u'A', u'B', u'D', u'G', u'K', u'E', u'K', u'G', u'D', u'B', u'A', u'A', u'B', u'D', u'G', u'K', u'E', u'K', u'G', u'D', u'B', u'A', u'A', u'B', u'D', u'G', u'K', u'E', u'K', u'G', u'D', u'B', u'A', u'A', u'B', u'D', u'G', u'K', u'E', u'K', u'G', u'D', u'B', u'A', u'A', u'B', u'D', u'G', u'K', u'E', u'K', u'G', u'D', u'B', u'A', u'A', u'B', u'D', u'G', u'K', u'E', u'K', u'G', u'D', u'B', u'A', u'A', u'B', u'D', u'G', u'K', u'E', u'K', u'G', u'D', u'B', u'A', u'A', u'B', u'D', u'G', u'K', u'E', u'K', u'G', u'D', u'B', u'A', u'A', u'B', u'D', u'G', u'K', u'E', u'K', u'G', u'D', u'B', u'A', u'A', u'B', u'D', u'G', u'K', u'E', u'K', u'G', u'D', u'B', u'A', u'A', u'B', u'D', u'G', u'K', u'E', u'K', u'G', u'D', u'B', u'A', u'A', u'B', u'D', u'G', u'K', u'E', u'K', u'G', u'D', u'B', u'A', u'A', u'B', u'D', u'G', u'K', u'E', u'K', u'G', u'D', u'B', u'A', u'A', u'B', u'D', u'G', u'K', u'E', u'K', u'G', u'D', u'B', u'A', u'A', u'B', u'D', u'G', u'K', u'E', u'K', u'G', u'D', u'B', u'A', u'A', u'B', u'D', u'G', u'K', u'E', u'K', u'G', u'D', u'B', u'A', u'A', u'B', u'D', u'G', u'K', u'E', u'K', u'G', u'D', u'B', u'A', u'A', u'B', u'D', u'G', u'K', u'E', u'K', u'G', u'D', u'B', u'A', u'A', u'B', u'D', u'G', u'K', u'E', u'K', u'G', u'D', u'B', u'A', u'A', u'B', u'D', u'G', u'K', u'E', u'K', u'G', u'D', u'B', u'A', u'A', u'B', u'D', u'G', u'K', u'E', u'K', u'G', u'D', u'B', u'A', u'A', u'B', u'D', u'G', u'K', u'E', u'K', u'G', u'D', u'B', u'A', u'A', u'B', u'D', u'G', u'K', u'E', u'K', u'G', u'D', u'B', u'A', u'A', u'B', u'D', u'G', u'K', u'E', u'K', u'G', u'D', u'B', u'A', u'A', u'B', u'D', u'G', u'K', u'E', u'K', u'G', u'D', u'B', u'A', u'A', u'B', u'D', u'G', u'K', u'E', u'K', u'G', u'D', u'B', u'A', u'A', u'B', u'D', u'G', u'K', u'E', u'K', u'G', u'D', u'B', u'A', u'A', u'B', u'D', u'G', u'K', u'E', u'K', u'G', u'D', u'B', u'A', u'A', u'B', u'D', u'G', u'K', u'E', u'K', u'G', u'D', u'B', u'A', u'A', u'B', u'D', u'G', u'K', u'E', u'K', u'G', u'D', u'B', u'A', u'A', u'B', u'D', u'G', u'K', u'E', u'K', u'G', u'D', u'B', u'A', u'A', u'B', u'D', u'G', u'K', u'E', u'K', u'G', u'D', u'B', u'A', u'A', u'B', u'D', u'G', u'K', u'E', u'K', u'G', u'D', u'B', u'A', u'A', u'B', u'D', u'G', u'K', u'E', u'K', u'G', u'D', u'B', u'A', u'A', u'B', u'D', u'G', u'K', u'E', u'K', u'G', u'D', u'B', u'A', u'A', u'B', u'D', u'G', u'K', u'E', u'K', u'G', u'D', u'B', u'A', u'A', u'B', u'D', u'G', u'K', u'E', u'K', u'G', u'D', u'B', u'A', u'A', u'B', u'D', u'G', u'K', u'E', u'K', u'G', u'D', u'B', u'A', u'A', u'B', u'D', u'G', u'K', u'E', u'K', u'G', u'D', u'B', u'A', u'A', u'B', u'D', u'G', u'K', u'E', u'K', u'G', u'D', u'B', u'A', u'A', u'B', u'D', u'G', u'K', u'E', u'K', u'G', u'D', u'B', u'A', u'A', u'B', u'D', u'G', u'K', u'E', u'K', u'G', u'D', u'B', u'A', u'A', u'B', u'D', u'G', u'K', u'E', u'K', u'G', u'D', u'B', u'A', u'A', u'B', u'D', u'G', u'K', u'E', u'K', u'G', u'D', u'B', u'A', u'A', u'B', u'D', u'G', u'K', u'E', u'K', u'G', u'D', u'B', u'A', u'A', u'B', u'D', u'G', u'K', u'E', u'K', u'G', u'D', u'B', u'A', u'A', u'B', u'D', u'G', u'K', u'E', u'K', u'G', u'D', u'B']}\n"
     ]
    }
   ],
   "source": [
    "print(opponent_map)"
   ]
  },
  {
   "cell_type": "code",
   "execution_count": 13,
   "metadata": {
    "collapsed": false
   },
   "outputs": [],
   "source": [
    "fp.close()"
   ]
  },
  {
   "cell_type": "code",
   "execution_count": 21,
   "metadata": {
    "collapsed": false
   },
   "outputs": [],
   "source": [
    "json_payload = initial_payload\n",
    "post = urllib2.Request(site)\n",
    "post.add_header('Content-Type', 'application/json')\n",
    "return_payload = urllib2.urlopen(post, json.dumps(json_payload))\n",
    "if return_payload.msg != \"OK\":\n",
    "    print(\"error retrieving motherload using site [%s] json [%s]\") % (site, json)\n",
    "    quit(1)\n",
    "payload_string = \"\"\n",
    "for line in return_payload.readlines():\n",
    "    payload_string = payload_string + line\n",
    "motherload = json.loads(payload_string)"
   ]
  },
  {
   "cell_type": "code",
   "execution_count": 25,
   "metadata": {
    "collapsed": false
   },
   "outputs": [
    {
     "name": "stdout",
     "output_type": "stream",
     "text": [
      "{\n",
      "    \"gamestate\": {\n",
      "        \"opponent_name\": \"El Rey Muy Dante\", \n",
      "        \"player_name\": \"Bodds by Dodds\", \n",
      "        \"opponent_moves\": [], \n",
      "        \"total_score\": 0, \n",
      "        \"id\": \"f15ad9dc-fa1d-4000-b109-91382587fb94\", \n",
      "        \"your_moves\": [], \n",
      "        \"seed\": 5167971138649649295, \n",
      "        \"moves_remaining\": 1000, \n",
      "        \"email\": \"todd.jones@gmail.com\", \n",
      "        \"opponent\": \"el-rey-muy-dante\"\n",
      "    }, \n",
      "    \"signature\": \"jqW8miBZZ3vEzcbGGWFwoLYu/SI=\"\n",
      "}\n"
     ]
    }
   ],
   "source": [
    "print(json.dumps(motherload,indent=4))"
   ]
  },
  {
   "cell_type": "code",
   "execution_count": 27,
   "metadata": {
    "collapsed": true
   },
   "outputs": [],
   "source": [
    "json_payload = motherload"
   ]
  },
  {
   "cell_type": "code",
   "execution_count": 28,
   "metadata": {
    "collapsed": false
   },
   "outputs": [
    {
     "data": {
      "text/plain": [
       "1000"
      ]
     },
     "execution_count": 28,
     "metadata": {},
     "output_type": "execute_result"
    }
   ],
   "source": [
    "json_payload[\"gamestate\"][\"moves_remaining\"]"
   ]
  },
  {
   "cell_type": "code",
   "execution_count": 30,
   "metadata": {
    "collapsed": false
   },
   "outputs": [
    {
     "data": {
      "text/plain": [
       "u'A'"
      ]
     },
     "execution_count": 30,
     "metadata": {},
     "output_type": "execute_result"
    }
   ],
   "source": [
    "opponent_map[\"opponent_moves\"][0]"
   ]
  },
  {
   "cell_type": "code",
   "execution_count": 32,
   "metadata": {
    "collapsed": false
   },
   "outputs": [],
   "source": [
    "movenr = 1000 - json_payload[\"gamestate\"][\"moves_remaining\"]"
   ]
  },
  {
   "cell_type": "code",
   "execution_count": 33,
   "metadata": {
    "collapsed": false
   },
   "outputs": [
    {
     "data": {
      "text/plain": [
       "0"
      ]
     },
     "execution_count": 33,
     "metadata": {},
     "output_type": "execute_result"
    }
   ],
   "source": [
    "movenr"
   ]
  },
  {
   "cell_type": "code",
   "execution_count": 38,
   "metadata": {
    "collapsed": false
   },
   "outputs": [
    {
     "data": {
      "text/plain": [
       "u'A'"
      ]
     },
     "execution_count": 38,
     "metadata": {},
     "output_type": "execute_result"
    }
   ],
   "source": [
    "anticipated_move = opponent_map[\"opponent_moves\"][movenr]\n",
    "anticipated_move"
   ]
  },
  {
   "cell_type": "code",
   "execution_count": 39,
   "metadata": {
    "collapsed": true
   },
   "outputs": [],
   "source": [
    "k_beats = [\"A\",\"B\",\"C\",\"D\",\"E\"]\n",
    "e_beats = [\"F\",\"G\",\"H\",\"I\",\"J\"]"
   ]
  },
  {
   "cell_type": "code",
   "execution_count": 40,
   "metadata": {
    "collapsed": false
   },
   "outputs": [
    {
     "data": {
      "text/plain": [
       "['A', 'B', 'C', 'D', 'E']"
      ]
     },
     "execution_count": 40,
     "metadata": {},
     "output_type": "execute_result"
    }
   ],
   "source": [
    "k_beats"
   ]
  },
  {
   "cell_type": "code",
   "execution_count": 41,
   "metadata": {
    "collapsed": false
   },
   "outputs": [
    {
     "data": {
      "text/plain": [
       "['F', 'G', 'H', 'I', 'J']"
      ]
     },
     "execution_count": 41,
     "metadata": {},
     "output_type": "execute_result"
    }
   ],
   "source": [
    "e_beats"
   ]
  },
  {
   "cell_type": "code",
   "execution_count": 43,
   "metadata": {
    "collapsed": false
   },
   "outputs": [],
   "source": [
    "if \"Z\" in k_beats:\n",
    "    print(\"hell yeah\")"
   ]
  }
 ],
 "metadata": {
  "anaconda-cloud": {},
  "kernelspec": {
   "display_name": "Python [Root]",
   "language": "python",
   "name": "Python [Root]"
  },
  "language_info": {
   "codemirror_mode": {
    "name": "ipython",
    "version": 2
   },
   "file_extension": ".py",
   "mimetype": "text/x-python",
   "name": "python",
   "nbconvert_exporter": "python",
   "pygments_lexer": "ipython2",
   "version": "2.7.12"
  }
 },
 "nbformat": 4,
 "nbformat_minor": 0
}
