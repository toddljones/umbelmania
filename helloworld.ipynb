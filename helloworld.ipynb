{
 "cells": [
  {
   "cell_type": "code",
   "execution_count": 45,
   "metadata": {
    "collapsed": true
   },
   "outputs": [],
   "source": [
    "import json"
   ]
  },
  {
   "cell_type": "code",
   "execution_count": 46,
   "metadata": {
    "collapsed": true
   },
   "outputs": [],
   "source": [
    "import urllib2"
   ]
  },
  {
   "cell_type": "code",
   "execution_count": 47,
   "metadata": {
    "collapsed": true
   },
   "outputs": [],
   "source": [
    "post = urllib2.Request('https://umbelmania.umbel.com/training/')"
   ]
  },
  {
   "cell_type": "code",
   "execution_count": 48,
   "metadata": {
    "collapsed": true
   },
   "outputs": [],
   "source": [
    "post.add_header('Content-Type', 'application/json')"
   ]
  },
  {
   "cell_type": "markdown",
   "metadata": {},
   "source": [
    "# Initialize game"
   ]
  },
  {
   "cell_type": "code",
   "execution_count": 49,
   "metadata": {
    "collapsed": true
   },
   "outputs": [],
   "source": [
    "initialpayload={\n",
    "                \"opponent\": \"el-rey-muy-dante\",\n",
    "                \"player_name\": \"relampago engrasado\",\n",
    "                \"email\": \"toddljones@gmail.com\"\n",
    "}"
   ]
  },
  {
   "cell_type": "code",
   "execution_count": 50,
   "metadata": {
    "collapsed": false
   },
   "outputs": [
    {
     "name": "stdout",
     "output_type": "stream",
     "text": [
      "{'player_name': 'relampago engrasado', 'email': 'toddljones@gmail.com', 'opponent': 'el-rey-muy-dante'}\n"
     ]
    }
   ],
   "source": [
    "print initialpayload"
   ]
  },
  {
   "cell_type": "code",
   "execution_count": 51,
   "metadata": {
    "collapsed": false
   },
   "outputs": [],
   "source": [
    "motherload = urllib2.urlopen(post, json.dumps(initialpayload))"
   ]
  },
  {
   "cell_type": "code",
   "execution_count": 53,
   "metadata": {
    "collapsed": false
   },
   "outputs": [
    {
     "name": "stdout",
     "output_type": "stream",
     "text": [
      "OK\n"
     ]
    }
   ],
   "source": [
    "print motherload.msg"
   ]
  },
  {
   "cell_type": "code",
   "execution_count": 26,
   "metadata": {
    "collapsed": false
   },
   "outputs": [],
   "source": [
    "returnstring = \"\"\n",
    "for line in motherload.readlines():\n",
    "    returnstring = returnstring + line"
   ]
  },
  {
   "cell_type": "code",
   "execution_count": 27,
   "metadata": {
    "collapsed": false
   },
   "outputs": [
    {
     "name": "stdout",
     "output_type": "stream",
     "text": [
      "{\"gamestate\":{\"your_moves\":[],\"email\":\"toddljones@gmail.com\",\"opponent_name\":\"El Rey Muy Dante\",\"seed\":8298319687541862624,\"player_name\":\"relampago engrasado\",\"opponent_moves\":[],\"total_score\":0,\"moves_remaining\":1000,\"id\":\"ae0b2861-1b1a-4540-b5ba-6d119f4aab9b\",\"opponent\":\"el-rey-muy-dante\"},\"signature\":\"04rP7hI9kwbTUxBlQpDQV0tvimA=\"}\n"
     ]
    }
   ],
   "source": [
    "print returnstring"
   ]
  },
  {
   "cell_type": "code",
   "execution_count": 31,
   "metadata": {
    "collapsed": false
   },
   "outputs": [],
   "source": [
    "jsonpayload = json.loads(returnstring)"
   ]
  },
  {
   "cell_type": "code",
   "execution_count": 33,
   "metadata": {
    "collapsed": false
   },
   "outputs": [
    {
     "name": "stdout",
     "output_type": "stream",
     "text": [
      "{\n",
      "    \"gamestate\": {\n",
      "        \"email\": \"toddljones@gmail.com\", \n",
      "        \"id\": \"ae0b2861-1b1a-4540-b5ba-6d119f4aab9b\", \n",
      "        \"moves_remaining\": 1000, \n",
      "        \"opponent\": \"el-rey-muy-dante\", \n",
      "        \"opponent_moves\": [], \n",
      "        \"opponent_name\": \"El Rey Muy Dante\", \n",
      "        \"player_name\": \"relampago engrasado\", \n",
      "        \"seed\": 8298319687541862624, \n",
      "        \"total_score\": 0, \n",
      "        \"your_moves\": []\n",
      "    }, \n",
      "    \"signature\": \"04rP7hI9kwbTUxBlQpDQV0tvimA=\"\n",
      "}\n"
     ]
    }
   ],
   "source": [
    "print json.dumps(jsonpayload, sort_keys = True, indent = 4)"
   ]
  },
  {
   "cell_type": "code",
   "execution_count": 9,
   "metadata": {
    "collapsed": false
   },
   "outputs": [
    {
     "name": "stdout",
     "output_type": "stream",
     "text": [
      "code 200 info <bound method addinfourl.info of <addinfourl at 63392328L whose fp = <socket._fileobject object at 0x0000000003BED318>>> msg OK\n"
     ]
    }
   ],
   "source": [
    "print 'code', motherload.code, 'info', motherload.info, 'msg', motherload.msg"
   ]
  },
  {
   "cell_type": "markdown",
   "metadata": {},
   "source": [
    "# Make first move"
   ]
  },
  {
   "cell_type": "code",
   "execution_count": 34,
   "metadata": {
    "collapsed": false
   },
   "outputs": [
    {
     "name": "stdout",
     "output_type": "stream",
     "text": [
      "{\n",
      "    \"gamestate\": {\n",
      "        \"email\": \"toddljones@gmail.com\", \n",
      "        \"id\": \"ae0b2861-1b1a-4540-b5ba-6d119f4aab9b\", \n",
      "        \"moves_remaining\": 1000, \n",
      "        \"opponent\": \"el-rey-muy-dante\", \n",
      "        \"opponent_moves\": [], \n",
      "        \"opponent_name\": \"El Rey Muy Dante\", \n",
      "        \"player_name\": \"relampago engrasado\", \n",
      "        \"seed\": 8298319687541862624, \n",
      "        \"total_score\": 0, \n",
      "        \"your_moves\": []\n",
      "    }, \n",
      "    \"signature\": \"04rP7hI9kwbTUxBlQpDQV0tvimA=\"\n",
      "}\n"
     ]
    }
   ],
   "source": [
    "print json.dumps(jsonpayload, sort_keys = True, indent = 4)"
   ]
  },
  {
   "cell_type": "code",
   "execution_count": 35,
   "metadata": {
    "collapsed": true
   },
   "outputs": [],
   "source": [
    "jsonpayload[\"move\"] = \"K\""
   ]
  },
  {
   "cell_type": "code",
   "execution_count": 36,
   "metadata": {
    "collapsed": false
   },
   "outputs": [
    {
     "name": "stdout",
     "output_type": "stream",
     "text": [
      "{\n",
      "    \"gamestate\": {\n",
      "        \"email\": \"toddljones@gmail.com\", \n",
      "        \"id\": \"ae0b2861-1b1a-4540-b5ba-6d119f4aab9b\", \n",
      "        \"moves_remaining\": 1000, \n",
      "        \"opponent\": \"el-rey-muy-dante\", \n",
      "        \"opponent_moves\": [], \n",
      "        \"opponent_name\": \"El Rey Muy Dante\", \n",
      "        \"player_name\": \"relampago engrasado\", \n",
      "        \"seed\": 8298319687541862624, \n",
      "        \"total_score\": 0, \n",
      "        \"your_moves\": []\n",
      "    }, \n",
      "    \"move\": \"K\", \n",
      "    \"signature\": \"04rP7hI9kwbTUxBlQpDQV0tvimA=\"\n",
      "}\n"
     ]
    }
   ],
   "source": [
    "print json.dumps(jsonpayload, sort_keys = True, indent = 4)"
   ]
  },
  {
   "cell_type": "code",
   "execution_count": 40,
   "metadata": {
    "collapsed": false
   },
   "outputs": [],
   "source": [
    "motherload = urllib2.urlopen(post, json.dumps(jsonpayload))"
   ]
  },
  {
   "cell_type": "code",
   "execution_count": 41,
   "metadata": {
    "collapsed": false
   },
   "outputs": [],
   "source": [
    "returnstring = \"\"\n",
    "for line in motherload.readlines():\n",
    "    returnstring = returnstring + line"
   ]
  },
  {
   "cell_type": "code",
   "execution_count": 42,
   "metadata": {
    "collapsed": false
   },
   "outputs": [
    {
     "name": "stdout",
     "output_type": "stream",
     "text": [
      "{\"gamestate\":{\"opponent_name\":\"El Rey Muy Dante\",\"player_name\":\"relampago engrasado\",\"score\":1,\"opponent_moves\":[\"A\"],\"total_score\":1,\"email\":\"toddljones@gmail.com\",\"your_moves\":[\"K\"],\"seed\":8298319687541862624,\"state_id\":9,\"opponent_move\":\"A\",\"moves_remaining\":999,\"id\":\"ae0b2861-1b1a-4540-b5ba-6d119f4aab9b\",\"opponent\":\"el-rey-muy-dante\"},\"signature\":\"8QALVpbQvKMtlzkvmHuKp0GkicE=\"}\n"
     ]
    }
   ],
   "source": [
    "print returnstring"
   ]
  },
  {
   "cell_type": "code",
   "execution_count": 43,
   "metadata": {
    "collapsed": false
   },
   "outputs": [],
   "source": [
    "jsonpayload = json.loads(returnstring)"
   ]
  },
  {
   "cell_type": "code",
   "execution_count": 44,
   "metadata": {
    "collapsed": false
   },
   "outputs": [
    {
     "name": "stdout",
     "output_type": "stream",
     "text": [
      "{\n",
      "    \"gamestate\": {\n",
      "        \"email\": \"toddljones@gmail.com\", \n",
      "        \"id\": \"ae0b2861-1b1a-4540-b5ba-6d119f4aab9b\", \n",
      "        \"moves_remaining\": 999, \n",
      "        \"opponent\": \"el-rey-muy-dante\", \n",
      "        \"opponent_move\": \"A\", \n",
      "        \"opponent_moves\": [\n",
      "            \"A\"\n",
      "        ], \n",
      "        \"opponent_name\": \"El Rey Muy Dante\", \n",
      "        \"player_name\": \"relampago engrasado\", \n",
      "        \"score\": 1, \n",
      "        \"seed\": 8298319687541862624, \n",
      "        \"state_id\": 9, \n",
      "        \"total_score\": 1, \n",
      "        \"your_moves\": [\n",
      "            \"K\"\n",
      "        ]\n",
      "    }, \n",
      "    \"signature\": \"8QALVpbQvKMtlzkvmHuKp0GkicE=\"\n",
      "}\n"
     ]
    }
   ],
   "source": [
    "print json.dumps(jsonpayload, sort_keys = True, indent = 4)"
   ]
  }
 ],
 "metadata": {
  "kernelspec": {
   "display_name": "Python [Root]",
   "language": "python",
   "name": "Python [Root]"
  },
  "language_info": {
   "codemirror_mode": {
    "name": "ipython",
    "version": 2
   },
   "file_extension": ".py",
   "mimetype": "text/x-python",
   "name": "python",
   "nbconvert_exporter": "python",
   "pygments_lexer": "ipython2",
   "version": "2.7.12"
  }
 },
 "nbformat": 4,
 "nbformat_minor": 0
}
